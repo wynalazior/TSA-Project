{
  "nbformat": 4,
  "nbformat_minor": 0,
  "metadata": {
    "colab": {
      "provenance": []
    },
    "kernelspec": {
      "name": "python3",
      "display_name": "Python 3"
    },
    "language_info": {
      "name": "python"
    }
  },
  "cells": [
    {
      "cell_type": "code",
      "source": [
        "import yfinance as yf\n",
        "import pandas as pd\n",
        "\n",
        "# Define your tickers\n",
        "tickers = {\n",
        "    \"S&P 500\": \"^GSPC\",\n",
        "    \"Apple\": \"AAPL\",\n",
        "    \"EUR/USD\": \"EURUSD=X\",\n",
        "    \"Gold\": \"GC=F\",\n",
        "    \"Ethereum\": \"ETH-USD\"\n",
        "}\n",
        "\n",
        "# Download historical data\n",
        "start_date = \"2020-05-01\"\n",
        "end_date = \"2025-05-01\"  # Give yourself buffer before cutting to final periods\n",
        "\n",
        "# Download adjusted close prices\n",
        "data = yf.download(list(tickers.values()), start=start_date, end=end_date)[\"Close\"]\n",
        "data.columns = tickers.keys()\n",
        "\n",
        "# Step 1: Keep only weekdays (drop Saturday and Sunday)\n",
        "data = data[data.index.dayofweek < 5]\n",
        "\n",
        "# Step 2: Align all assets to the same weekday calendar\n",
        "# Create a full weekday index and reindex\n",
        "weekday_index = pd.date_range(start=data.index.min(), end=data.index.max(), freq='B')\n",
        "data = data.reindex(weekday_index)\n",
        "\n",
        "# Step 3: Forward-fill missing values\n",
        "data_ffill = data.ffill()\n",
        "\n",
        "# Step 4: Drop rows with any remaining NaNs (i.e., still missing from the beginning)\n",
        "data_clean = data_ffill.dropna()\n",
        "\n",
        "# Check for remaining missing values\n",
        "print(\"Remaining missing values:\")\n",
        "print(data_clean.isna().sum())"
      ],
      "metadata": {
        "colab": {
          "base_uri": "https://localhost:8080/"
        },
        "id": "cT1rFiaNkDeS",
        "outputId": "ae268fac-494c-4b9e-84e3-46de5fcc818b"
      },
      "execution_count": 20,
      "outputs": [
        {
          "output_type": "stream",
          "name": "stderr",
          "text": [
            "[*********************100%***********************]  5 of 5 completed"
          ]
        },
        {
          "output_type": "stream",
          "name": "stdout",
          "text": [
            "Remaining missing values:\n",
            "S&P 500     0\n",
            "Apple       0\n",
            "EUR/USD     0\n",
            "Gold        0\n",
            "Ethereum    0\n",
            "dtype: int64\n"
          ]
        },
        {
          "output_type": "stream",
          "name": "stderr",
          "text": [
            "\n"
          ]
        }
      ]
    }
  ]
}